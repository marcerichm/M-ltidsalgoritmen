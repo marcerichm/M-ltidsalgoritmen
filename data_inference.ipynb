{
 "cells": [
  {
   "cell_type": "code",
   "execution_count": 50,
   "metadata": {},
   "outputs": [],
   "source": [
    "import numpy as np\n",
    "import requests\n",
    "import json"
   ]
  },
  {
   "cell_type": "code",
   "execution_count": null,
   "metadata": {},
   "outputs": [],
   "source": [
    "\n",
    "# This script fetches food data from the Matvaretabellen API and prints the first 5 food items.\n",
    "# The API endpoint for food data is 'https://www.matvaretabellen.no/api/nb/foods.json'.\n",
    "\n",
    "url = 'https://www.matvaretabellen.no/api/nb/foods.json'\n",
    "response = requests.get(url)\n",
    "\n",
    "if response.status_code != 200:\n",
    "    print(\"status code not 200\")\n",
    "    raise(ConnectionError)\n",
    "\n",
    "data = response.json()       # This is a dict\n",
    "foods = data['foods']         # This is the list of food items"
   ]
  },
  {
   "cell_type": "code",
   "execution_count": 51,
   "metadata": {},
   "outputs": [
    {
     "name": "stdout",
     "output_type": "stream",
     "text": [
      "dict_keys(['searchKeywords', 'calories', 'portions', 'ediblePart', 'langualCodes', 'energy', 'foodName', 'latinName', 'constituents', 'uri', 'foodGroupId', 'foodId'])\n",
      "01.230\n",
      "[{'sourceId': '115b', 'quantity': 0.4, 'unit': 'mg', 'nutrientId': 'Zn'}, {'sourceId': '115b', 'quantity': 40.0, 'unit': 'mg', 'nutrientId': 'Na'}, {'sourceId': '115a', 'quantity': 0.0, 'unit': 'g', 'nutrientId': 'Omega-3'}, {'sourceId': '10', 'nutrientId': 'BIOT'}, {'sourceId': 'MI0210', 'quantity': 0.1, 'unit': 'g', 'nutrientId': 'Enumet'}, {'sourceId': '10', 'nutrientId': 'XYLTL'}, {'sourceId': '10', 'nutrientId': 'ZEA'}, {'sourceId': '10', 'nutrientId': 'VITK1D'}, {'sourceId': 'MI0325', 'quantity': 7.0, 'unit': 'µg-RE', 'nutrientId': 'Vit A'}, {'sourceId': '115b', 'quantity': 0.04, 'unit': 'g', 'nutrientId': 'C18:0Stearinsyre'}, {'sourceId': '115b', 'quantity': 140.0, 'unit': 'mg', 'nutrientId': 'Ca'}, {'sourceId': '10', 'nutrientId': 'VITK1'}, {'sourceId': '115b', 'quantity': 0.1, 'unit': 'mg', 'nutrientId': 'Niacin'}, {'sourceId': '50', 'quantity': 0.0, 'unit': 'g', 'nutrientId': 'Alko'}, {'sourceId': '10', 'nutrientId': 'LUTN'}, {'sourceId': '10', 'nutrientId': 'CHOCALOH'}, {'sourceId': '10', 'nutrientId': 'MK10'}, {'sourceId': 'MI0120', 'quantity': 0.1, 'unit': 'g', 'nutrientId': 'NaCl'}, {'sourceId': 'MI0212', 'quantity': 0.0, 'unit': 'g', 'nutrientId': 'Flerum'}, {'sourceId': '10', 'nutrientId': 'MK7'}, {'sourceId': '10', 'nutrientId': 'MANTL'}, {'sourceId': '10', 'nutrientId': 'CARTA'}, {'sourceId': '115b', 'quantity': 0.5, 'unit': 'µg', 'nutrientId': 'Vit B12'}, {'sourceId': '115b', 'quantity': 0.0, 'unit': 'g', 'nutrientId': 'C20:4n-6Arakidonsyre'}, {'sourceId': 'MI0142', 'quantity': 91.0, 'unit': 'g', 'nutrientId': 'Vann'}, {'sourceId': '10', 'nutrientId': 'CHOLN'}, {'sourceId': '115b', 'quantity': 0.0, 'unit': 'g', 'nutrientId': 'C22:5n-3Dokosapentaensyre'}, {'sourceId': '10', 'nutrientId': 'MK6'}, {'sourceId': '115b', 'quantity': 0.01, 'unit': 'mg', 'nutrientId': 'Cu'}, {'sourceId': '10', 'nutrientId': 'MK5'}, {'sourceId': '10', 'nutrientId': 'CRYPXA'}, {'sourceId': '50', 'quantity': 0.0, 'unit': 'g', 'nutrientId': 'Sukker'}, {'sourceId': '115b', 'quantity': 0.14, 'unit': 'mg', 'nutrientId': 'Vit B2'}, {'sourceId': '115b', 'quantity': 0.0, 'unit': 'mg-ATE', 'nutrientId': 'Vit E'}, {'sourceId': '115b', 'quantity': 0.0, 'unit': 'g', 'nutrientId': 'C20:3n-3Eikosatriensyre'}, {'sourceId': '115b', 'quantity': 0.04, 'unit': 'mg', 'nutrientId': 'Vit B6'}, {'sourceId': '10', 'nutrientId': 'ERGSTROH'}, {'sourceId': '115b', 'quantity': 0.0, 'unit': 'g', 'nutrientId': 'C20:5n-3Eikosapentaensyre'}, {'sourceId': '115b', 'quantity': 5.0, 'unit': 'µg', 'nutrientId': 'Folat'}, {'sourceId': '115b', 'quantity': 16.0, 'unit': 'µg', 'nutrientId': 'I'}, {'sourceId': '10', 'nutrientId': 'FD'}, {'sourceId': '10', 'nutrientId': 'POLYL'}, {'sourceId': '10', 'nutrientId': 'GLUS'}, {'sourceId': '115b', 'quantity': 0.01, 'unit': 'g', 'nutrientId': 'C12:0Laurinsyre'}, {'sourceId': '50', 'quantity': 0.0, 'unit': 'g', 'nutrientId': 'Stivel'}, {'sourceId': '115b', 'quantity': 0.0, 'unit': 'g', 'nutrientId': 'C18:3n-3AlfaLinolensyre'}, {'sourceId': '10', 'nutrientId': 'CAROTENS'}, {'sourceId': 'MI0421', 'quantity': 1.0, 'unit': 'mg', 'nutrientId': 'NIAEQ'}, {'sourceId': '10', 'nutrientId': 'MALS'}, {'sourceId': '10', 'nutrientId': 'SORTL'}, {'sourceId': '115b', 'quantity': 180.0, 'unit': 'mg', 'nutrientId': 'K'}, {'sourceId': '10', 'nutrientId': 'VITK'}, {'sourceId': '115a', 'quantity': 0.01, 'unit': 'g', 'nutrientId': 'Omega-6'}, {'sourceId': '115b', 'quantity': 0.05, 'unit': 'mg', 'nutrientId': 'Vit B1'}, {'sourceId': '10', 'nutrientId': 'MN'}, {'sourceId': '115b', 'quantity': 0.08, 'unit': 'g', 'nutrientId': 'C18:1'}, {'sourceId': '10', 'nutrientId': 'ERGSTR'}, {'sourceId': '10', 'nutrientId': 'SUCS'}, {'sourceId': '115b', 'quantity': 0.0, 'unit': 'g', 'nutrientId': 'C22:6n-3Dokosaheksaensyre'}, {'sourceId': '115b', 'quantity': 0.0, 'unit': 'g', 'nutrientId': 'C20:3n-6DihomoGammaLinolensyre'}, {'sourceId': 'MI0208', 'quantity': 0.3, 'unit': 'g', 'nutrientId': 'Mettet'}, {'sourceId': '115b', 'quantity': 105.0, 'unit': 'mg', 'nutrientId': 'P'}, {'sourceId': '115a', 'quantity': 0.0, 'unit': 'g', 'nutrientId': 'Trans'}, {'sourceId': '10', 'nutrientId': 'MK8'}, {'sourceId': '10', 'nutrientId': 'INOTL'}, {'sourceId': '115b', 'quantity': 6.0, 'unit': 'µg', 'nutrientId': 'B-karo'}, {'sourceId': '10', 'nutrientId': 'LACTL'}, {'sourceId': '10', 'nutrientId': 'GALS'}, {'sourceId': 'MI0181', 'quantity': 4.5, 'unit': 'g', 'nutrientId': 'Karbo'}, {'sourceId': '115b', 'quantity': 1.0, 'unit': 'µg', 'nutrientId': 'Se'}, {'sourceId': '115b', 'quantity': 1.0, 'unit': 'mg', 'nutrientId': 'Kolest'}, {'sourceId': '10', 'nutrientId': 'MO'}, {'sourceId': '115b', 'quantity': 0.4, 'unit': 'µg', 'nutrientId': 'Vit D'}, {'sourceId': '10', 'nutrientId': 'MK4'}, {'sourceId': '10', 'nutrientId': 'MK13'}, {'sourceId': '115b', 'quantity': 6.0, 'unit': 'µg', 'nutrientId': 'Retinol'}, {'sourceId': '10', 'nutrientId': 'MK12'}, {'sourceId': '115b', 'quantity': 0.12, 'unit': 'g', 'nutrientId': 'C16:0Palmitinsyre'}, {'sourceId': 'MI0322', 'quantity': 7, 'unit': 'µg-RE', 'nutrientId': 'Vit A RE'}, {'sourceId': '50', 'quantity': 0.0, 'unit': 'g', 'nutrientId': 'SUGAN'}, {'sourceId': '10', 'nutrientId': 'CRYPXB'}, {'sourceId': '30', 'quantity': 0.0, 'unit': 'mg', 'nutrientId': 'Vit C'}, {'sourceId': '50', 'quantity': 0.0, 'unit': 'g', 'nutrientId': 'Fiber'}, {'sourceId': '10', 'nutrientId': 'MK11'}, {'sourceId': '115b', 'quantity': 4.5, 'unit': 'g', 'nutrientId': 'Mono+Di'}, {'sourceId': '10', 'nutrientId': 'FRUS'}, {'sourceId': '115b', 'quantity': 0.04, 'unit': 'g', 'nutrientId': 'C14:0Myristinsyre'}, {'sourceId': '115b', 'quantity': 0.01, 'unit': 'g', 'nutrientId': 'C18:2n-6Linolsyre'}, {'sourceId': '115b', 'quantity': 13.0, 'unit': 'mg', 'nutrientId': 'Mg'}, {'sourceId': '115b', 'quantity': 0.0, 'unit': 'g', 'nutrientId': 'C20:4n-3Eikosatetraensyre'}, {'sourceId': '10', 'nutrientId': 'VITK2'}, {'sourceId': '10', 'nutrientId': 'ISOMALT'}, {'sourceId': '115b', 'quantity': 3.7, 'unit': 'g', 'nutrientId': 'Protein'}, {'sourceId': '10', 'nutrientId': 'MK9'}, {'sourceId': '10', 'nutrientId': 'LACS'}, {'sourceId': '115b', 'quantity': 0.0, 'unit': 'mg', 'nutrientId': 'Fe'}, {'sourceId': '10', 'nutrientId': 'CHOCAL'}, {'sourceId': '115b', 'quantity': 0.0, 'unit': 'g', 'nutrientId': 'C16:1'}, {'sourceId': '10', 'nutrientId': 'LYCPN'}, {'sourceId': '10', 'nutrientId': 'ERGCAL'}, {'sourceId': '115b', 'quantity': 0.5, 'unit': 'g', 'nutrientId': 'Fett'}]\n"
     ]
    }
   ],
   "source": [
    "print(foods[1011].keys())\n",
    "print(foods[1011]['foodId'])\n",
    "print(foods[1011]['constituents'])"
   ]
  },
  {
   "cell_type": "code",
   "execution_count": 45,
   "metadata": {},
   "outputs": [
    {
     "name": "stdout",
     "output_type": "stream",
     "text": [
      "['mjølk']\n",
      "['mjølk']\n",
      "[]\n",
      "['mjølk']\n",
      "['lettmjølk']\n",
      "['mjølk']\n",
      "['mjølk']\n",
      "['lettmjølk']\n",
      "['mjølk']\n",
      "['mjølk']\n",
      "['mjølk']\n",
      "['lettmjølk']\n",
      "['mjølk', 'skulemjølk']\n",
      "['mjølk', 'lettmjølk']\n",
      "['rømmekolle']\n",
      "[]\n",
      "[]\n",
      "['light', 'pils', 'brygg']\n",
      "['fugl', 'innmat', 'fjørfe']\n",
      "['innmat']\n",
      "['vilt', 'innmat']\n",
      "['innmat']\n",
      "['innmat']\n",
      "['innmat']\n",
      "[]\n",
      "[]\n",
      "['hermetikk', 'innmat', 'kjøtt']\n",
      "[]\n",
      "['kjøttpålegg', 'innmat']\n",
      "[]\n",
      "[]\n",
      "[]\n",
      "[]\n",
      "[]\n",
      "[]\n",
      "[]\n",
      "['belgfrukt']\n",
      "['sitrusfrukt']\n",
      "['bringeber']\n",
      "['bringeber']\n",
      "[]\n",
      "[]\n",
      "[]\n",
      "[]\n",
      "['belgfrukt', 'hermetikk']\n",
      "['belgfrukt']\n",
      "['grøne']\n",
      "['belgfrukt']\n",
      "['belgfrukt', 'hermetikk']\n",
      "['belgfrukt']\n",
      "[]\n",
      "['frukt']\n",
      "[]\n",
      "[]\n",
      "[]\n",
      "[]\n",
      "['mjøl']\n",
      "['mjøl']\n",
      "['flyndrefisk']\n",
      "[]\n",
      "['innmat']\n",
      "[]\n",
      "['julemat']\n",
      "['julemat']\n",
      "['fisk']\n",
      "['lauk', 'grønnsaker', 'kepa']\n",
      "['lauk', 'grønnsak']\n",
      "['lauk', 'sprøsteikt']\n",
      "['lauksuppe', 'heimelaga']\n",
      "['lauksuppe', 'heimelaga']\n",
      "[]\n",
      "['kaffe']\n",
      "['kaffe', 'kaffi']\n",
      "['kaffe', 'kaffi']\n",
      "['kaffe', 'kaffi']\n",
      "['smøreost']\n",
      "['smøreost']\n",
      "[]\n",
      "['grønnsaker']\n",
      "['hermetikk']\n",
      "['grønnsaker']\n",
      "['frukostblanding']\n",
      "['frukostblanding']\n",
      "['maismjøl']\n",
      "['vegetabilsk']\n",
      "[]\n",
      "[]\n",
      "[]\n",
      "['lettmajones']\n",
      "['lettmajones']\n",
      "['hermetikk', 'makrellfilet']\n",
      "['hermetikk']\n",
      "['fiskepålegg', 'hermetikk']\n",
      "['hermetikk', 'makrellfilet']\n",
      "['hermetikk', 'makrellfilet']\n",
      "['fisk']\n",
      "['fisk']\n",
      "['fisk']\n",
      "['fisk']\n",
      "['fisk']\n"
     ]
    }
   ],
   "source": [
    "n = 1011\n",
    "for i in range(n,n+100):\n",
    "    print(foods[i]['searchKeywords'])"
   ]
  },
  {
   "cell_type": "code",
   "execution_count": 46,
   "metadata": {},
   "outputs": [
    {
     "name": "stdout",
     "output_type": "stream",
     "text": [
      "['mjølk']\n",
      "['mjølk']\n"
     ]
    }
   ],
   "source": [
    "print(foods[1011]['searchKeywords'])\n",
    "print(foods[1011]['searchKeywords'])"
   ]
  }
 ],
 "metadata": {
  "kernelspec": {
   "display_name": "Python (matalgoritmen)",
   "language": "python",
   "name": "matalgoritmen"
  },
  "language_info": {
   "codemirror_mode": {
    "name": "ipython",
    "version": 3
   },
   "file_extension": ".py",
   "mimetype": "text/x-python",
   "name": "python",
   "nbconvert_exporter": "python",
   "pygments_lexer": "ipython3",
   "version": "3.11.11"
  }
 },
 "nbformat": 4,
 "nbformat_minor": 2
}
